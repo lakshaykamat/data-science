{
 "cells": [
  {
   "cell_type": "markdown",
   "id": "48e687da-1959-44cb-9c80-5c5e7512afb5",
   "metadata": {
    "editable": true,
    "slideshow": {
     "slide_type": ""
    },
    "tags": []
   },
   "source": [
    "# Introduction to NumPy\n",
    "\n",
    "NumPy (Numerical Python) is a powerful library for numerical computing in Python. It provides support for large, multi-dimensional arrays and matrices, along with a collection of mathematical functions to operate on these arrays.\n",
    "\n",
    "## Key Features of NumPy\n",
    "- **N-Dimensional Arrays**: Efficient, multidimensional container for generic data.\n",
    "- **Mathematical Functions**: Tools for operations such as algebra, calculus, and statistics.\n",
    "- **Broadcasting**: Automatic expansion of arrays during arithmetic operations.\n",
    "- **Integration with C/C++ and Fortran Code**: For high-performance computation.\n",
    "\n",
    "---\n",
    "\n",
    "## 1. Installing NumPy\n",
    "To install NumPy, use the following command:\n",
    "```bash\n",
    "pip install numpy\n",
    "```\n",
    "## 2. Importing NumPy\n",
    "The standard way to import NumPy is as follows:\n"
   ]
  },
  {
   "cell_type": "code",
   "execution_count": 1,
   "id": "9a3ec15c-d318-4161-be1c-e6e61b209510",
   "metadata": {},
   "outputs": [],
   "source": [
    "import numpy as np"
   ]
  },
  {
   "cell_type": "markdown",
   "id": "6cdcb432-b924-4c21-9fb2-a587cabe6797",
   "metadata": {},
   "source": [
    "By convention, NumPy is imported with the alias np."
   ]
  },
  {
   "cell_type": "markdown",
   "id": "7781f992-e122-47f9-a456-33936cfd9f84",
   "metadata": {},
   "source": [
    "---\n",
    "\n",
    "# Numpy Arrays\n",
    "NumPy arrays are the core data structure provided by the NumPy library. They offer efficient storage and manipulation of numerical data in multiple dimensions. \n",
    "\n",
    "\n",
    "## 1. Creating Arrays\n",
    "\n",
    "### From Python Lists\n",
    "You can create a NumPy array from a Python list using the `np.array()` function."
   ]
  },
  {
   "cell_type": "code",
   "execution_count": 2,
   "id": "cb0bb60b-3881-4840-a609-3113d7b5465f",
   "metadata": {},
   "outputs": [
    {
     "data": {
      "text/plain": [
       "array([1, 2, 3, 4])"
      ]
     },
     "execution_count": 2,
     "metadata": {},
     "output_type": "execute_result"
    }
   ],
   "source": [
    "np.array([1, 2, 3, 4])"
   ]
  },
  {
   "cell_type": "markdown",
   "id": "7b982f1e-8ea8-4448-bd9b-28b000f506af",
   "metadata": {},
   "source": [
    "### Using Built-in Functions\n",
    "`np.zeros()`: Create an array filled with zeros"
   ]
  },
  {
   "cell_type": "code",
   "execution_count": 3,
   "id": "5ddb4f98-7b5c-473c-9d80-f6d89a5e23ba",
   "metadata": {},
   "outputs": [
    {
     "data": {
      "text/plain": [
       "array([[0., 0., 0.],\n",
       "       [0., 0., 0.],\n",
       "       [0., 0., 0.]])"
      ]
     },
     "execution_count": 3,
     "metadata": {},
     "output_type": "execute_result"
    }
   ],
   "source": [
    "np.zeros((3, 3))"
   ]
  },
  {
   "cell_type": "markdown",
   "id": "18de2a1d-45b3-45ec-b011-f0f78a2adac9",
   "metadata": {},
   "source": [
    "`np.ones()`: Create an array filled with ones"
   ]
  },
  {
   "cell_type": "code",
   "execution_count": 4,
   "id": "f8e688e1-0ced-4e9e-84b8-a13090d6057c",
   "metadata": {},
   "outputs": [
    {
     "data": {
      "text/plain": [
       "array([[1., 1., 1., 1.],\n",
       "       [1., 1., 1., 1.]])"
      ]
     },
     "execution_count": 4,
     "metadata": {},
     "output_type": "execute_result"
    }
   ],
   "source": [
    "np.ones((2, 4))"
   ]
  },
  {
   "cell_type": "markdown",
   "id": "e11a5695-5483-4dcf-b968-4726aa036c7e",
   "metadata": {},
   "source": [
    "`np.arange()`: Create an array with evenly spaced values within a given range"
   ]
  },
  {
   "cell_type": "code",
   "execution_count": 5,
   "id": "7a0cd460-b946-4a65-92ce-be937f3f4ff3",
   "metadata": {},
   "outputs": [
    {
     "data": {
      "text/plain": [
       "array([0, 2, 4, 6, 8])"
      ]
     },
     "execution_count": 5,
     "metadata": {},
     "output_type": "execute_result"
    }
   ],
   "source": [
    "np.arange(0, 10, 2)"
   ]
  },
  {
   "cell_type": "markdown",
   "id": "ac33bcf8-ae6e-49d7-a6ea-c3f801fc93ae",
   "metadata": {},
   "source": [
    "`np.linspace()`: Create an array with evenly spaced values between two points"
   ]
  },
  {
   "cell_type": "code",
   "execution_count": 6,
   "id": "5710a403-24d3-42f3-9931-caa1db554265",
   "metadata": {},
   "outputs": [
    {
     "data": {
      "text/plain": [
       "array([0.  , 0.25, 0.5 , 0.75, 1.  ])"
      ]
     },
     "execution_count": 6,
     "metadata": {},
     "output_type": "execute_result"
    }
   ],
   "source": [
    "np.linspace(0, 1, 5)"
   ]
  },
  {
   "cell_type": "markdown",
   "id": "99bc6add-d4ec-4968-bda3-8dcdd17f9901",
   "metadata": {},
   "source": [
    "### Random \n",
    "`np.random.random()`: Create an array of random values between 0 and 1"
   ]
  },
  {
   "cell_type": "code",
   "execution_count": 7,
   "id": "7f6747c0-8f14-475e-bdd4-e02c1435cecc",
   "metadata": {},
   "outputs": [
    {
     "data": {
      "text/plain": [
       "array([[0.86885876, 0.70688855, 0.77690528],\n",
       "       [0.53119379, 0.98158324, 0.66415215]])"
      ]
     },
     "execution_count": 7,
     "metadata": {},
     "output_type": "execute_result"
    }
   ],
   "source": [
    "np.random.random((2, 3))\n",
    "# A 2x3 array of random values between 0 and 1"
   ]
  },
  {
   "cell_type": "markdown",
   "id": "ce71ee6d-ede7-4f62-95ac-7a55af15e7e2",
   "metadata": {},
   "source": [
    "`np.random.randint()`: Create an array of random integers within a specified range"
   ]
  },
  {
   "cell_type": "code",
   "execution_count": 8,
   "id": "21842433-837c-4b97-ac96-767a41f0ab85",
   "metadata": {},
   "outputs": [
    {
     "data": {
      "text/plain": [
       "array([[9, 5, 6],\n",
       "       [7, 6, 5],\n",
       "       [6, 3, 1]], dtype=int32)"
      ]
     },
     "execution_count": 8,
     "metadata": {},
     "output_type": "execute_result"
    }
   ],
   "source": [
    "np.random.randint(1, 10, (3, 3))\n",
    "# A 3x3 array of random integers between 1 and 9"
   ]
  },
  {
   "cell_type": "markdown",
   "id": "ee76af49-e26c-4c3a-8ee8-4516804bcdc4",
   "metadata": {},
   "source": [
    "## 2. Array Types\n",
    "### 1D Arrays\n",
    "One-dimensional arrays are simple arrays where data is stored in a single row."
   ]
  },
  {
   "cell_type": "code",
   "execution_count": 9,
   "id": "4ecaf843-2f74-4106-900b-78e9008a659f",
   "metadata": {},
   "outputs": [
    {
     "data": {
      "text/plain": [
       "array([1, 2, 3, 4, 5])"
      ]
     },
     "execution_count": 9,
     "metadata": {},
     "output_type": "execute_result"
    }
   ],
   "source": [
    "np.array([1, 2, 3, 4, 5])"
   ]
  },
  {
   "cell_type": "markdown",
   "id": "77794a11-efd3-49ef-b058-a555b2b0470f",
   "metadata": {},
   "source": [
    "### 2D Arrays\n",
    "Two-dimensional arrays store data in a matrix (rows and columns)."
   ]
  },
  {
   "cell_type": "code",
   "execution_count": 10,
   "id": "8eef84f7-045a-440f-bc03-4e68f53aae93",
   "metadata": {},
   "outputs": [
    {
     "data": {
      "text/plain": [
       "array([[1, 2],\n",
       "       [3, 4],\n",
       "       [5, 6]])"
      ]
     },
     "execution_count": 10,
     "metadata": {},
     "output_type": "execute_result"
    }
   ],
   "source": [
    "np.array([[1, 2], [3, 4], [5, 6]])"
   ]
  },
  {
   "cell_type": "markdown",
   "id": "42978316-d6b7-48a7-a9a5-24d512a1fc67",
   "metadata": {},
   "source": [
    "### N-Dimensional Arrays\n",
    "NumPy can handle arrays of arbitrary dimensions. For example, a 3D array (a cube of data) is created as follows:"
   ]
  },
  {
   "cell_type": "code",
   "execution_count": 11,
   "id": "d6146dac-7ad8-4806-a3af-258b92af2d51",
   "metadata": {},
   "outputs": [
    {
     "data": {
      "text/plain": [
       "array([[[1, 2],\n",
       "        [3, 4]],\n",
       "\n",
       "       [[5, 6],\n",
       "        [7, 8]]])"
      ]
     },
     "execution_count": 11,
     "metadata": {},
     "output_type": "execute_result"
    }
   ],
   "source": [
    "np.array([[[1, 2], [3, 4]], [[5, 6], [7, 8]]])"
   ]
  },
  {
   "cell_type": "markdown",
   "id": "363ae3a7-adea-46bb-b736-73e0b9eef49b",
   "metadata": {},
   "source": [
    "## 3. Array Data Types (dtype)\n",
    "NumPy arrays can contain elements of a specific data type. You can either let NumPy infer the data type or specify it explicitly.\n",
    "\n",
    "### Checking the Data Type\n",
    "You can check the data type of a NumPy array using the .dtype attribute."
   ]
  },
  {
   "cell_type": "code",
   "execution_count": 12,
   "id": "42dfd030-fef0-4012-b281-d539d8294b1d",
   "metadata": {},
   "outputs": [
    {
     "data": {
      "text/plain": [
       "array([1, 2, 3])"
      ]
     },
     "execution_count": 12,
     "metadata": {},
     "output_type": "execute_result"
    }
   ],
   "source": [
    "np.array([1, 2, 3])"
   ]
  },
  {
   "cell_type": "markdown",
   "id": "35ca42d8-da47-4052-9e2c-7bc0e7e71cbc",
   "metadata": {},
   "source": [
    "### Specifying the Data Type\n",
    "You can specify the data type when creating a NumPy array by passing the dtype argument."
   ]
  },
  {
   "cell_type": "code",
   "execution_count": 13,
   "id": "e838638c-3464-4a5f-a00c-65f402bc7d06",
   "metadata": {},
   "outputs": [
    {
     "data": {
      "text/plain": [
       "array([1., 2., 3.])"
      ]
     },
     "execution_count": 13,
     "metadata": {},
     "output_type": "execute_result"
    }
   ],
   "source": [
    "np.array([1, 2, 3], dtype='float64')"
   ]
  },
  {
   "cell_type": "markdown",
   "id": "b1f0c562-57e8-4433-86d3-148a646f20e3",
   "metadata": {},
   "source": [
    "Common Data Types in NumPy:\n",
    "\n",
    "- `int32`, `int64`: Integer types of different sizes.\n",
    "- `float32`, `float64`: Floating-point numbers.\n",
    "- `bool`: Boolean values (True or False)."
   ]
  },
  {
   "cell_type": "markdown",
   "id": "e8c60348-4749-458f-af18-1ae5d607c925",
   "metadata": {
    "jp-MarkdownHeadingCollapsed": true
   },
   "source": [
    "---\n",
    "\n",
    "# Array Indexing and Slicing\n",
    "\n",
    "NumPy allows for efficient and flexible access to elements of arrays using indexing and slicing. These tools are essential for selecting, manipulating, and analyzing data within arrays.\n",
    "\n",
    "\n",
    "## 1. Accessing Elements: Indexing\n",
    "\n",
    "### 1D Array Indexing\n",
    "You can access individual elements in a 1D array by specifying the index (starting from 0)."
   ]
  },
  {
   "cell_type": "code",
   "execution_count": 14,
   "id": "6bb3fd2f-f2ba-43cf-ad98-5a6815f3d37b",
   "metadata": {},
   "outputs": [
    {
     "name": "stdout",
     "output_type": "stream",
     "text": [
      "30\n"
     ]
    }
   ],
   "source": [
    "arr_1d = np.array([10, 20, 30, 40])\n",
    "print(arr_1d[2])"
   ]
  },
  {
   "cell_type": "markdown",
   "id": "d37b8757-746c-4f5f-ad4e-939fd456554d",
   "metadata": {},
   "source": [
    "### 2D Array Indexing\n",
    "In a 2D array (matrix), you can access elements by specifying the row and column index."
   ]
  },
  {
   "cell_type": "code",
   "execution_count": 15,
   "id": "79c7b676-c8af-4372-a485-c9c8f48cb094",
   "metadata": {},
   "outputs": [
    {
     "name": "stdout",
     "output_type": "stream",
     "text": [
      "60\n"
     ]
    }
   ],
   "source": [
    "arr_2d = np.array([[10, 20, 30], [40, 50, 60], [70, 80, 90]])\n",
    "print(arr_2d[1, 2])  # Outputs: 60 (row 1, column 2)"
   ]
  },
  {
   "cell_type": "markdown",
   "id": "5fba6cf8-17f7-4f78-8074-f8c0421fd05e",
   "metadata": {},
   "source": [
    "### N-Dimensional Array Indexing\n",
    "For arrays with more than two dimensions, you can use the same principle of specifying the index for each dimension."
   ]
  },
  {
   "cell_type": "code",
   "execution_count": 16,
   "id": "9c4252e3-d2ba-4de5-9872-0f2c52a2be9f",
   "metadata": {},
   "outputs": [
    {
     "name": "stdout",
     "output_type": "stream",
     "text": [
      "6\n"
     ]
    }
   ],
   "source": [
    "arr_3d = np.array([[[1, 2], [3, 4]], [[5, 6], [7, 8]]])\n",
    "print(arr_3d[1, 0, 1])  # Outputs: 6 (2nd group, 1st row, 2nd column)\n"
   ]
  },
  {
   "cell_type": "markdown",
   "id": "721d01c7-3e33-4cae-8156-d84d8c657e43",
   "metadata": {},
   "source": [
    "---\n"
   ]
  },
  {
   "cell_type": "markdown",
   "id": "14a794d6-c033-4303-b6b0-522fc0c3fabd",
   "metadata": {},
   "source": [
    "## 2. Slicing: Extracting Subsets of Arrays\n",
    "Slicing allows you to extract parts of an array by specifying a range of indices. The syntax is [start:end:step], where start is inclusive, and end is exclusive.\n",
    "\n",
    "### 1D Array Slicing"
   ]
  },
  {
   "cell_type": "code",
   "execution_count": 17,
   "id": "0f290449-4bc5-49df-be82-a6face110220",
   "metadata": {},
   "outputs": [
    {
     "name": "stdout",
     "output_type": "stream",
     "text": [
      "[20 30 40]\n"
     ]
    }
   ],
   "source": [
    "arr_1d = np.array([10, 20, 30, 40, 50, 60])\n",
    "print(arr_1d[1:4])  # Outputs: [20 30 40] (from index 1 to 3)"
   ]
  },
  {
   "cell_type": "markdown",
   "id": "0db8c314-8b99-4b9c-abdb-4909eb229b3d",
   "metadata": {},
   "source": [
    "You can also use negative indices to slice from the end of the array:"
   ]
  },
  {
   "cell_type": "code",
   "execution_count": 18,
   "id": "ee662894-475d-4116-a3f1-8e15c44e25d8",
   "metadata": {},
   "outputs": [
    {
     "name": "stdout",
     "output_type": "stream",
     "text": [
      "[40 50 60]\n"
     ]
    }
   ],
   "source": [
    "print(arr_1d[-3:])  # Outputs: [40 50 60]\n"
   ]
  },
  {
   "cell_type": "markdown",
   "id": "4e8d12ed-494e-4a16-9199-f8b0dba3b392",
   "metadata": {},
   "source": [
    "### 2D Array Slicing\n",
    "In a 2D array, you can slice rows and columns by specifying ranges for both dimensions."
   ]
  },
  {
   "cell_type": "code",
   "execution_count": 19,
   "id": "3f813867-4d63-46fe-bc1b-6aaa0524a9ed",
   "metadata": {},
   "outputs": [
    {
     "name": "stdout",
     "output_type": "stream",
     "text": [
      "[[20 30]\n",
      " [50 60]]\n"
     ]
    }
   ],
   "source": [
    "arr_2d = np.array([[10, 20, 30], [40, 50, 60], [70, 80, 90]])\n",
    "print(arr_2d[0:2, 1:3])  \n",
    "# Outputs:\n",
    "# [[20 30]\n",
    "#  [50 60]]\n"
   ]
  },
  {
   "cell_type": "markdown",
   "id": "154b35a4-e2b2-46d9-96a8-7cacea5f1c4f",
   "metadata": {},
   "source": [
    "This extracts rows 0 and 1, and columns 1 and 2."
   ]
  },
  {
   "cell_type": "markdown",
   "id": "292b9b6a-b50a-4472-b33e-012640cbfaa0",
   "metadata": {},
   "source": [
    "### Slicing with Steps\n",
    "You can specify a step size to select elements at regular intervals."
   ]
  },
  {
   "cell_type": "code",
   "execution_count": 20,
   "id": "b497254c-e6ec-49e2-90e2-4f61dd4c40cb",
   "metadata": {},
   "outputs": [
    {
     "name": "stdout",
     "output_type": "stream",
     "text": [
      "[10 30 50]\n"
     ]
    }
   ],
   "source": [
    "arr_1d = np.array([10, 20, 30, 40, 50, 60])\n",
    "print(arr_1d[::2])  # Outputs: [10 30 50] (every second element)\n"
   ]
  },
  {
   "cell_type": "markdown",
   "id": "343dc060-b369-4b88-b9ba-d050f3704689",
   "metadata": {},
   "source": [
    "### 3. Boolean Indexing: Filtering Data\n",
    "Boolean indexing allows you to filter arrays based on conditions. This creates a boolean mask (True/False) that selects elements based on the condition.\n",
    "\n",
    "#### Example: Filter Values Greater Than 30"
   ]
  },
  {
   "cell_type": "code",
   "execution_count": 21,
   "id": "d18dd9db-ce31-41c4-bada-5ff8a629cc9f",
   "metadata": {},
   "outputs": [
    {
     "name": "stdout",
     "output_type": "stream",
     "text": [
      "[40 50]\n"
     ]
    }
   ],
   "source": [
    "arr = np.array([10, 20, 30, 40, 50])\n",
    "filtered_arr = arr[arr > 30]\n",
    "print(filtered_arr)  # Outputs: [40 50]\n"
   ]
  },
  {
   "cell_type": "markdown",
   "id": "6ce3d039-5a21-4d07-8b2a-53876300d309",
   "metadata": {},
   "source": [
    "#### Example: Combine Multiple Conditions\n",
    "You can combine multiple conditions using logical operators (&, |, ~ for and, or, and not)."
   ]
  },
  {
   "cell_type": "code",
   "execution_count": 22,
   "id": "eba66f9e-edc7-4c97-b1e4-311fdc8cef17",
   "metadata": {},
   "outputs": [
    {
     "name": "stdout",
     "output_type": "stream",
     "text": [
      "[30 40]\n"
     ]
    }
   ],
   "source": [
    "arr = np.array([10, 20, 30, 40, 50])\n",
    "filtered_arr = arr[(arr > 20) & (arr < 50)]\n",
    "print(filtered_arr)  # Outputs: [30 40]\n"
   ]
  },
  {
   "cell_type": "markdown",
   "id": "18dbe1db-b84a-404a-bb9a-0283d539ef05",
   "metadata": {
    "jp-MarkdownHeadingCollapsed": true
   },
   "source": [
    "---\n",
    "\n",
    "# Array Operations\n",
    "\n",
    "NumPy provides powerful tools for performing element-wise operations on arrays, as well as more complex mathematical operations. Understanding how NumPy handles arithmetic, broadcasting, and mathematical functions is crucial for working with numerical data.\n",
    "\n",
    "## 1. Basic Arithmetic Operations\n",
    "NumPy allows for element-wise arithmetic operations on arrays. These operations work on arrays of the same shape, or on arrays that can be broadcasted to the same shape.\n",
    "\n",
    "### Element-wise Addition\n"
   ]
  },
  {
   "cell_type": "code",
   "execution_count": 23,
   "id": "7c8d5336-fd48-4cbc-ae9b-d6cf7678f13b",
   "metadata": {},
   "outputs": [
    {
     "name": "stdout",
     "output_type": "stream",
     "text": [
      "[5 7 9]\n"
     ]
    }
   ],
   "source": [
    "arr1 = np.array([1, 2, 3])\n",
    "arr2 = np.array([4, 5, 6])\n",
    "print(arr1 + arr2)  # Outputs: [5 7 9]"
   ]
  },
  {
   "cell_type": "markdown",
   "id": "0e62a3a1-822e-4a36-b1c6-26f313cac852",
   "metadata": {},
   "source": [
    "### Element-wise Subtractionm"
   ]
  },
  {
   "cell_type": "code",
   "execution_count": 24,
   "id": "843e617c-eb88-474d-9586-50d4ae53f297",
   "metadata": {},
   "outputs": [
    {
     "name": "stdout",
     "output_type": "stream",
     "text": [
      "[3 3 3]\n"
     ]
    }
   ],
   "source": [
    "print(arr2 - arr1)  # Outputs: [3 3 3]"
   ]
  },
  {
   "cell_type": "markdown",
   "id": "28d1ccc7-f7a5-4a57-8f14-7ecf9e638df2",
   "metadata": {},
   "source": [
    "### Element-wise Multiplication"
   ]
  },
  {
   "cell_type": "code",
   "execution_count": 25,
   "id": "d1e16f79-606a-4dfa-b7a1-f842780cafaa",
   "metadata": {},
   "outputs": [
    {
     "name": "stdout",
     "output_type": "stream",
     "text": [
      "[ 4 10 18]\n"
     ]
    }
   ],
   "source": [
    "print(arr1 * arr2)  # Outputs: [4 10 18]\n"
   ]
  },
  {
   "cell_type": "markdown",
   "id": "1f190203-c774-4334-93e5-0a971ddc59b8",
   "metadata": {},
   "source": [
    "### Element-wise Division\n"
   ]
  },
  {
   "cell_type": "code",
   "execution_count": 26,
   "id": "ac7d298a-1a68-442f-abd6-9c14dc180e10",
   "metadata": {},
   "outputs": [
    {
     "name": "stdout",
     "output_type": "stream",
     "text": [
      "[4.  2.5 2. ]\n"
     ]
    }
   ],
   "source": [
    "print(arr2 / arr1)  # Outputs: [4.  2.5 2. ]\n"
   ]
  },
  {
   "cell_type": "markdown",
   "id": "278879fb-ee5f-495a-8263-078153332421",
   "metadata": {},
   "source": [
    "## 2. Broadcasting\n",
    "Broadcasting allows NumPy to perform arithmetic operations on arrays of different shapes. It expands the smaller array along the dimensions of the larger one, without making actual copies of data.\n",
    "\n",
    "### Broadcasting Example"
   ]
  },
  {
   "cell_type": "code",
   "execution_count": 27,
   "id": "13d2e13e-2e4e-4081-ac50-45adfc708fa0",
   "metadata": {},
   "outputs": [
    {
     "name": "stdout",
     "output_type": "stream",
     "text": [
      "[11 12 13]\n"
     ]
    }
   ],
   "source": [
    "arr = np.array([1, 2, 3])\n",
    "scalar = 10\n",
    "print(arr + scalar)  # Outputs: [11 12 13] (scalar is added to each element)\n"
   ]
  },
  {
   "cell_type": "markdown",
   "id": "44678cd4-e803-40c6-bc90-d22e08772f2a",
   "metadata": {},
   "source": [
    "### Broadcasting with 2D Arrays\n"
   ]
  },
  {
   "cell_type": "code",
   "execution_count": 28,
   "id": "21b7d9b8-30f0-4af8-a9d0-3013f030212a",
   "metadata": {},
   "outputs": [
    {
     "name": "stdout",
     "output_type": "stream",
     "text": [
      "[[2 4 6]\n",
      " [5 7 9]]\n"
     ]
    }
   ],
   "source": [
    "arr_2d = np.array([[1, 2, 3], [4, 5, 6]])\n",
    "print(arr_2d + arr)  # Outputs:\n",
    "# [[2 4 6]\n",
    "#  [5 7 9]]\n"
   ]
  },
  {
   "cell_type": "markdown",
   "id": "60832feb-b601-4e16-bcbe-105d8a7fd5af",
   "metadata": {},
   "source": [
    "The 1D array arr is broadcast across the rows of the 2D array arr_2d."
   ]
  },
  {
   "cell_type": "markdown",
   "id": "837fb219-f5f9-4f43-9008-cb4935d04656",
   "metadata": {},
   "source": [
    "## 3. Mathematical Functions\n",
    "Universal Functions (ufuncs)\n",
    "NumPy provides a wide range of mathematical functions that operate element-wise on arrays, called universal functions or ufuncs."
   ]
  },
  {
   "cell_type": "markdown",
   "id": "b86fb2ab-7577-42bf-8ffb-6d2563c472f9",
   "metadata": {},
   "source": [
    "### **Sum of elements:**"
   ]
  },
  {
   "cell_type": "code",
   "execution_count": 29,
   "id": "07af2302-1000-47c9-9a3b-36b3bba425b3",
   "metadata": {},
   "outputs": [
    {
     "name": "stdout",
     "output_type": "stream",
     "text": [
      "10\n"
     ]
    }
   ],
   "source": [
    "arr = np.array([1, 2, 3, 4])\n",
    "print(np.sum(arr))  # Outputs: 10\n"
   ]
  },
  {
   "cell_type": "markdown",
   "id": "6d7b8966-c1f6-47ee-b7ef-3c245d31f999",
   "metadata": {},
   "source": [
    "### **Mean of elements:**"
   ]
  },
  {
   "cell_type": "code",
   "execution_count": 30,
   "id": "09e72ae8-cfa3-49cc-b922-fb488d9cb449",
   "metadata": {},
   "outputs": [
    {
     "name": "stdout",
     "output_type": "stream",
     "text": [
      "2.5\n"
     ]
    }
   ],
   "source": [
    "print(np.mean(arr))  # Outputs: 2.5\n"
   ]
  },
  {
   "cell_type": "markdown",
   "id": "08cdfca6-967f-4304-8229-4e5760f2f563",
   "metadata": {},
   "source": [
    "### **Median of elements:**"
   ]
  },
  {
   "cell_type": "code",
   "execution_count": 31,
   "id": "784040ee-16c3-4016-8b41-0e8a62179341",
   "metadata": {},
   "outputs": [
    {
     "name": "stdout",
     "output_type": "stream",
     "text": [
      "2.5\n"
     ]
    }
   ],
   "source": [
    "print(np.median(arr))  # Outputs: 2.5\n"
   ]
  },
  {
   "cell_type": "markdown",
   "id": "2460c82f-256b-426f-8266-5871185783e9",
   "metadata": {},
   "source": [
    "### **Standard Deviation:**"
   ]
  },
  {
   "cell_type": "code",
   "execution_count": 32,
   "id": "e2f313ba-2b2d-408b-a158-eb56511c1879",
   "metadata": {},
   "outputs": [
    {
     "name": "stdout",
     "output_type": "stream",
     "text": [
      "1.118033988749895\n"
     ]
    }
   ],
   "source": [
    "print(np.std(arr))  # Outputs: 1.118033988749895\n"
   ]
  },
  {
   "cell_type": "markdown",
   "id": "20b7c1b1-100f-4a6a-9524-2ed002061fae",
   "metadata": {},
   "source": [
    "### **Variance:**"
   ]
  },
  {
   "cell_type": "code",
   "execution_count": 33,
   "id": "7e286bf4-4d08-45d3-bb95-a6604475eb75",
   "metadata": {},
   "outputs": [
    {
     "name": "stdout",
     "output_type": "stream",
     "text": [
      "1.25\n"
     ]
    }
   ],
   "source": [
    "print(np.var(arr))  # Outputs: 1.25\n"
   ]
  },
  {
   "cell_type": "markdown",
   "id": "792c0420-133e-4759-82e2-b3da558326bc",
   "metadata": {},
   "source": [
    "## 4. Trigonometric Functions\n",
    "NumPy provides a set of trigonometric functions that work element-wise on arrays.\n",
    "\n",
    "**Example: Sine Function**"
   ]
  },
  {
   "cell_type": "code",
   "execution_count": 34,
   "id": "3205f8bb-5d2a-48f6-9b63-43804e7568f2",
   "metadata": {},
   "outputs": [
    {
     "name": "stdout",
     "output_type": "stream",
     "text": [
      "[0.0000000e+00 1.0000000e+00 1.2246468e-16]\n"
     ]
    }
   ],
   "source": [
    "angles = np.array([0, np.pi/2, np.pi])\n",
    "print(np.sin(angles))  # Outputs: [0. 1. 0.]\n"
   ]
  },
  {
   "cell_type": "markdown",
   "id": "a6f91ee6-d87e-4d3a-8c6b-a63059643b5c",
   "metadata": {},
   "source": [
    "**Example: Cosine Function**"
   ]
  },
  {
   "cell_type": "code",
   "execution_count": 35,
   "id": "0ac26c3d-a04e-4bbf-8f84-f4c4b6fde326",
   "metadata": {},
   "outputs": [
    {
     "name": "stdout",
     "output_type": "stream",
     "text": [
      "[ 1.000000e+00  6.123234e-17 -1.000000e+00]\n"
     ]
    }
   ],
   "source": [
    "print(np.cos(angles))  # Outputs: [ 1. 0. -1.]\n"
   ]
  },
  {
   "cell_type": "markdown",
   "id": "020eb661-62c1-45b3-8bc5-22d3d1b465a6",
   "metadata": {},
   "source": [
    "## 5. Exponential and Logarithmic Functions\n",
    "NumPy also includes functions for exponentiation and logarithmic calculations.\n",
    "\n",
    "**Exponential Function**"
   ]
  },
  {
   "cell_type": "code",
   "execution_count": 36,
   "id": "1e0a1ed9-083b-48a4-a5cb-5e5e60153a88",
   "metadata": {},
   "outputs": [
    {
     "name": "stdout",
     "output_type": "stream",
     "text": [
      "[ 2.71828183  7.3890561  20.08553692]\n"
     ]
    }
   ],
   "source": [
    "arr = np.array([1, 2, 3])\n",
    "print(np.exp(arr))  # Outputs: [ 2.71828183  7.3890561  20.08553692]\n"
   ]
  },
  {
   "cell_type": "markdown",
   "id": "7bf657ea-c06b-42d8-b422-8840e3aa1151",
   "metadata": {},
   "source": [
    "**Logarithmic Function**"
   ]
  },
  {
   "cell_type": "code",
   "execution_count": 37,
   "id": "f02d696f-65de-4929-80af-cac4aea47370",
   "metadata": {},
   "outputs": [
    {
     "name": "stdout",
     "output_type": "stream",
     "text": [
      "[0. 1. 2.]\n"
     ]
    }
   ],
   "source": [
    "arr = np.array([1, np.e, np.e**2])\n",
    "print(np.log(arr))  # Outputs: [0. 1. 2.]\n"
   ]
  },
  {
   "cell_type": "markdown",
   "id": "9e645b77-8fd4-45e8-8c59-a6c53c479ccc",
   "metadata": {
    "jp-MarkdownHeadingCollapsed": true
   },
   "source": [
    "---\n",
    "\n",
    "# Array Manipulation\n",
    "\n",
    "NumPy provides various tools for reshaping, concatenating, stacking, and splitting arrays. These operations allow you to transform and manage the layout of your data efficiently.\n",
    "\n",
    "## 1. Reshaping Arrays\n",
    "Reshaping allows you to change the shape of an array without changing its data. NumPy provides several functions to accomplish this.\n",
    "\n",
    "### `reshape()`: Changing the shape of an array\n",
    "The `reshape()` function is used to change the shape of an array to the desired dimensions, as long as the total number of elements remains the same."
   ]
  },
  {
   "cell_type": "code",
   "execution_count": 38,
   "id": "532b9c6b-3b9a-4f8a-a6f2-41fb38455af9",
   "metadata": {},
   "outputs": [
    {
     "name": "stdout",
     "output_type": "stream",
     "text": [
      "[[1 2 3]\n",
      " [4 5 6]]\n"
     ]
    }
   ],
   "source": [
    "arr = np.array([1, 2, 3, 4, 5, 6])\n",
    "reshaped_arr = arr.reshape((2, 3))\n",
    "print(reshaped_arr)\n",
    "# Outputs:\n",
    "# [[1 2 3]\n",
    "#  [4 5 6]]"
   ]
  },
  {
   "cell_type": "markdown",
   "id": "291aa882-32ef-4642-b361-e2a4430cf136",
   "metadata": {},
   "source": [
    "### `ravel():` Flattening an array to 1D\n",
    "\n",
    "The `ravel()` function returns a flattened 1D array without making a copy of the data (if possible)."
   ]
  },
  {
   "cell_type": "code",
   "execution_count": 39,
   "id": "22ddafbc-73bd-4678-b918-a1c0d63cd9c4",
   "metadata": {},
   "outputs": [
    {
     "name": "stdout",
     "output_type": "stream",
     "text": [
      "[1 2 3 4 5 6]\n"
     ]
    }
   ],
   "source": [
    "arr_2d = np.array([[1, 2, 3], [4, 5, 6]])\n",
    "flattened_arr = arr_2d.ravel()\n",
    "print(flattened_arr)  # Outputs: [1 2 3 4 5 6]"
   ]
  },
  {
   "cell_type": "markdown",
   "id": "016fa524-7164-4309-a21d-3871a36f331e",
   "metadata": {},
   "source": [
    "### `flatten()`: Flattening an array to 1D\n",
    "\n",
    "Unlike `ravel()`, `flatten()` always returns a copy of the array."
   ]
  },
  {
   "cell_type": "code",
   "execution_count": 40,
   "id": "26f61946-5042-40b8-be3d-360510badabd",
   "metadata": {},
   "outputs": [
    {
     "name": "stdout",
     "output_type": "stream",
     "text": [
      "[1 2 3 4 5 6]\n"
     ]
    }
   ],
   "source": [
    "flattened_arr = arr_2d.flatten()\n",
    "print(flattened_arr)  # Outputs: [1 2 3 4 5 6]\n"
   ]
  },
  {
   "cell_type": "markdown",
   "id": "0e4ee5f9-29a1-415f-8cf1-1ee972efa716",
   "metadata": {},
   "source": [
    "## 2. Concatenation and Stacking\n",
    "### `np.concatenate()`: Concatenating arrays along an axis\n",
    "You can concatenate arrays along different axes using `np.concatenate()`."
   ]
  },
  {
   "cell_type": "code",
   "execution_count": 41,
   "id": "fafd7757-9c72-4415-9f6e-44fcda8c28fb",
   "metadata": {},
   "outputs": [
    {
     "name": "stdout",
     "output_type": "stream",
     "text": [
      "[1 2 3 4 5 6]\n"
     ]
    }
   ],
   "source": [
    "arr1 = np.array([1, 2, 3])\n",
    "arr2 = np.array([4, 5, 6])\n",
    "concatenated = np.concatenate((arr1, arr2))\n",
    "print(concatenated)  # Outputs: [1 2 3 4 5 6]\n"
   ]
  },
  {
   "cell_type": "markdown",
   "id": "d0318818-a6fc-416e-932d-78988a704c99",
   "metadata": {},
   "source": [
    "### `np.vstack()`: Vertical stacking (row-wise)\n",
    "\n",
    "`vstack()` stacks arrays vertically, treating each input array as a row."
   ]
  },
  {
   "cell_type": "code",
   "execution_count": 42,
   "id": "04ecee6b-bc8b-4e67-aa27-37573496a74d",
   "metadata": {},
   "outputs": [
    {
     "name": "stdout",
     "output_type": "stream",
     "text": [
      "[[1 2 3]\n",
      " [4 5 6]]\n"
     ]
    }
   ],
   "source": [
    "arr1 = np.array([1, 2, 3])\n",
    "arr2 = np.array([4, 5, 6])\n",
    "stacked_vertically = np.vstack((arr1, arr2))\n",
    "print(stacked_vertically)\n",
    "# Outputs:\n",
    "# [[1 2 3]\n",
    "#  [4 5 6]]\n"
   ]
  },
  {
   "cell_type": "markdown",
   "id": "4f2908bf-bbf2-4c7c-adbd-0869b51d7160",
   "metadata": {},
   "source": [
    "### `np.hstack()`: Horizontal stacking (column-wise)\n",
    "\n",
    "`hstack()` stacks arrays horizontally, treating each input array as a column."
   ]
  },
  {
   "cell_type": "code",
   "execution_count": 43,
   "id": "1655f867-be3a-486c-90e0-92bd2e941655",
   "metadata": {},
   "outputs": [
    {
     "name": "stdout",
     "output_type": "stream",
     "text": [
      "[[1 4]\n",
      " [2 5]\n",
      " [3 6]]\n"
     ]
    }
   ],
   "source": [
    "arr1 = np.array([[1], [2], [3]])\n",
    "arr2 = np.array([[4], [5], [6]])\n",
    "stacked_horizontally = np.hstack((arr1, arr2))\n",
    "print(stacked_horizontally)\n",
    "# Outputs:\n",
    "# [[1 4]\n",
    "#  [2 5]\n",
    "#  [3 6]]\n"
   ]
  },
  {
   "cell_type": "markdown",
   "id": "14ffd18e-25f4-4dfa-85bd-e0fa7a10b758",
   "metadata": {},
   "source": [
    "## 3. Splitting Arrays\n",
    "Splitting allows you to break an array into multiple sub-arrays.\n",
    "\n",
    "### `np.split()`: Splitting an array into multiple sub-arrays\n",
    "`split()` divides an array into multiple sub-arrays at the specified indices."
   ]
  },
  {
   "cell_type": "code",
   "execution_count": 44,
   "id": "874d05e4-2046-4e15-9888-8e3ece5920bc",
   "metadata": {},
   "outputs": [
    {
     "name": "stdout",
     "output_type": "stream",
     "text": [
      "[array([1, 2]), array([3, 4]), array([5, 6])]\n"
     ]
    }
   ],
   "source": [
    "arr = np.array([1, 2, 3, 4, 5, 6])\n",
    "split_arr = np.split(arr, 3)  # Split into 3 equal parts\n",
    "print(split_arr)  # Outputs: [array([1, 2]), array([3, 4]), array([5, 6])]\n"
   ]
  },
  {
   "cell_type": "markdown",
   "id": "893e81f8-53e3-4fde-9944-9d4f66bed700",
   "metadata": {},
   "source": [
    "### `np.hsplit()`: Horizontal split\n",
    "\n",
    "`hsplit()` splits an array horizontally (column-wise) into multiple sub-arrays."
   ]
  },
  {
   "cell_type": "code",
   "execution_count": 45,
   "id": "9349efae-9fb8-4798-ab2f-e9715e5636a9",
   "metadata": {},
   "outputs": [
    {
     "name": "stdout",
     "output_type": "stream",
     "text": [
      "[array([[1],\n",
      "       [4]]), array([[2],\n",
      "       [5]]), array([[3],\n",
      "       [6]])]\n"
     ]
    }
   ],
   "source": [
    "arr = np.array([[1, 2, 3], [4, 5, 6]])\n",
    "split_arr = np.hsplit(arr, 3)  # Split into 3 parts along the columns\n",
    "print(split_arr)\n",
    "# Outputs:\n",
    "# [array([[1],\n",
    "#         [4]]),\n",
    "#  array([[2],\n",
    "#         [5]]),\n",
    "#  array([[3],\n",
    "#         [6]])]\n"
   ]
  },
  {
   "cell_type": "markdown",
   "id": "8752a2ec-b26a-42b5-ab9b-7c4cf530b43f",
   "metadata": {},
   "source": [
    "### `np.vsplit()`: Vertical split\n",
    "\n",
    "`vsplit()` splits an array vertically (row-wise) into multiple sub-arrays."
   ]
  },
  {
   "cell_type": "code",
   "execution_count": 46,
   "id": "51793c71-94f1-42c1-b3ed-2d4543e79fc0",
   "metadata": {},
   "outputs": [
    {
     "name": "stdout",
     "output_type": "stream",
     "text": [
      "[array([[1, 2, 3]]), array([[4, 5, 6]])]\n"
     ]
    }
   ],
   "source": [
    "arr = np.array([[1, 2, 3], [4, 5, 6]])\n",
    "split_arr = np.vsplit(arr, 2)  # Split into 2 parts along the rows\n",
    "print(split_arr)\n",
    "# Outputs:\n",
    "# [array([[1, 2, 3]]),\n",
    "#  array([[4, 5, 6]])]\n"
   ]
  }
 ],
 "metadata": {
  "kernelspec": {
   "display_name": "Python 3 (ipykernel)",
   "language": "python",
   "name": "python3"
  },
  "language_info": {
   "codemirror_mode": {
    "name": "ipython",
    "version": 3
   },
   "file_extension": ".py",
   "mimetype": "text/x-python",
   "name": "python",
   "nbconvert_exporter": "python",
   "pygments_lexer": "ipython3",
   "version": "3.12.5"
  }
 },
 "nbformat": 4,
 "nbformat_minor": 5
}
