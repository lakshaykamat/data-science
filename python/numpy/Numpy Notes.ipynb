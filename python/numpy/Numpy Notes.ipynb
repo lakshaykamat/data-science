{
 "cells": [
  {
   "cell_type": "markdown",
   "id": "48e687da-1959-44cb-9c80-5c5e7512afb5",
   "metadata": {},
   "source": [
    "# Introduction to NumPy\n",
    "\n",
    "NumPy (Numerical Python) is a powerful library for numerical computing in Python. It provides support for large, multi-dimensional arrays and matrices, along with a collection of mathematical functions to operate on these arrays.\n",
    "\n",
    "## Key Features of NumPy\n",
    "- **N-Dimensional Arrays**: Efficient, multidimensional container for generic data.\n",
    "- **Mathematical Functions**: Tools for operations such as algebra, calculus, and statistics.\n",
    "- **Broadcasting**: Automatic expansion of arrays during arithmetic operations.\n",
    "- **Integration with C/C++ and Fortran Code**: For high-performance computation.\n",
    "\n",
    "---\n",
    "\n",
    "## 1. Installing NumPy\n",
    "To install NumPy, use the following command:\n",
    "```bash\n",
    "pip install numpy\n",
    "```\n",
    "## 2. Importing NumPy\n",
    "The standard way to import NumPy is as follows:\n"
   ]
  },
  {
   "cell_type": "code",
   "execution_count": 1,
   "id": "9a3ec15c-d318-4161-be1c-e6e61b209510",
   "metadata": {},
   "outputs": [],
   "source": [
    "import numpy as np"
   ]
  },
  {
   "cell_type": "markdown",
   "id": "6cdcb432-b924-4c21-9fb2-a587cabe6797",
   "metadata": {},
   "source": [
    "By convention, NumPy is imported with the alias np."
   ]
  },
  {
   "cell_type": "markdown",
   "id": "7781f992-e122-47f9-a456-33936cfd9f84",
   "metadata": {},
   "source": [
    "# Numpy Arrays\n",
    "NumPy arrays are the core data structure provided by the NumPy library. They offer efficient storage and manipulation of numerical data in multiple dimensions. \n",
    "\n",
    "---\n",
    "\n",
    "## 1. Creating Arrays\n",
    "\n",
    "### From Python Lists\n",
    "You can create a NumPy array from a Python list using the `np.array()` function."
   ]
  },
  {
   "cell_type": "code",
   "execution_count": 2,
   "id": "cb0bb60b-3881-4840-a609-3113d7b5465f",
   "metadata": {},
   "outputs": [
    {
     "data": {
      "text/plain": [
       "array([1, 2, 3, 4])"
      ]
     },
     "execution_count": 2,
     "metadata": {},
     "output_type": "execute_result"
    }
   ],
   "source": [
    "np.array([1, 2, 3, 4])"
   ]
  },
  {
   "cell_type": "markdown",
   "id": "7b982f1e-8ea8-4448-bd9b-28b000f506af",
   "metadata": {},
   "source": [
    "### Using Built-in Functions\n",
    "`np.zeros()`: Create an array filled with zeros"
   ]
  },
  {
   "cell_type": "code",
   "execution_count": 3,
   "id": "5ddb4f98-7b5c-473c-9d80-f6d89a5e23ba",
   "metadata": {},
   "outputs": [
    {
     "data": {
      "text/plain": [
       "array([[0., 0., 0.],\n",
       "       [0., 0., 0.],\n",
       "       [0., 0., 0.]])"
      ]
     },
     "execution_count": 3,
     "metadata": {},
     "output_type": "execute_result"
    }
   ],
   "source": [
    "np.zeros((3, 3))"
   ]
  },
  {
   "cell_type": "markdown",
   "id": "18de2a1d-45b3-45ec-b011-f0f78a2adac9",
   "metadata": {},
   "source": [
    "`np.ones()`: Create an array filled with ones"
   ]
  },
  {
   "cell_type": "code",
   "execution_count": 4,
   "id": "f8e688e1-0ced-4e9e-84b8-a13090d6057c",
   "metadata": {},
   "outputs": [
    {
     "data": {
      "text/plain": [
       "array([[1., 1., 1., 1.],\n",
       "       [1., 1., 1., 1.]])"
      ]
     },
     "execution_count": 4,
     "metadata": {},
     "output_type": "execute_result"
    }
   ],
   "source": [
    "np.ones((2, 4))"
   ]
  },
  {
   "cell_type": "markdown",
   "id": "e11a5695-5483-4dcf-b968-4726aa036c7e",
   "metadata": {},
   "source": [
    "`np.arange()`: Create an array with evenly spaced values within a given range"
   ]
  },
  {
   "cell_type": "code",
   "execution_count": 5,
   "id": "7a0cd460-b946-4a65-92ce-be937f3f4ff3",
   "metadata": {},
   "outputs": [
    {
     "data": {
      "text/plain": [
       "array([0, 2, 4, 6, 8])"
      ]
     },
     "execution_count": 5,
     "metadata": {},
     "output_type": "execute_result"
    }
   ],
   "source": [
    "np.arange(0, 10, 2)"
   ]
  },
  {
   "cell_type": "markdown",
   "id": "ac33bcf8-ae6e-49d7-a6ea-c3f801fc93ae",
   "metadata": {},
   "source": [
    "`np.linspace()`: Create an array with evenly spaced values between two points"
   ]
  },
  {
   "cell_type": "code",
   "execution_count": 6,
   "id": "5710a403-24d3-42f3-9931-caa1db554265",
   "metadata": {},
   "outputs": [
    {
     "data": {
      "text/plain": [
       "array([0.  , 0.25, 0.5 , 0.75, 1.  ])"
      ]
     },
     "execution_count": 6,
     "metadata": {},
     "output_type": "execute_result"
    }
   ],
   "source": [
    "np.linspace(0, 1, 5)"
   ]
  },
  {
   "cell_type": "markdown",
   "id": "99bc6add-d4ec-4968-bda3-8dcdd17f9901",
   "metadata": {},
   "source": [
    "### Random \n",
    "`np.random.random()`: Create an array of random values between 0 and 1"
   ]
  },
  {
   "cell_type": "code",
   "execution_count": 7,
   "id": "7f6747c0-8f14-475e-bdd4-e02c1435cecc",
   "metadata": {},
   "outputs": [
    {
     "data": {
      "text/plain": [
       "array([[0.15319864, 0.66170929, 0.07364881],\n",
       "       [0.33640374, 0.48868317, 0.91510097]])"
      ]
     },
     "execution_count": 7,
     "metadata": {},
     "output_type": "execute_result"
    }
   ],
   "source": [
    "np.random.random((2, 3))\n",
    "# A 2x3 array of random values between 0 and 1"
   ]
  },
  {
   "cell_type": "markdown",
   "id": "ce71ee6d-ede7-4f62-95ac-7a55af15e7e2",
   "metadata": {},
   "source": [
    "`np.random.randint()`: Create an array of random integers within a specified range"
   ]
  },
  {
   "cell_type": "code",
   "execution_count": 8,
   "id": "21842433-837c-4b97-ac96-767a41f0ab85",
   "metadata": {},
   "outputs": [
    {
     "data": {
      "text/plain": [
       "array([[2, 4, 7],\n",
       "       [3, 3, 1],\n",
       "       [7, 4, 4]], dtype=int32)"
      ]
     },
     "execution_count": 8,
     "metadata": {},
     "output_type": "execute_result"
    }
   ],
   "source": [
    "np.random.randint(1, 10, (3, 3))\n",
    "# A 3x3 array of random integers between 1 and 9"
   ]
  },
  {
   "cell_type": "markdown",
   "id": "e74e3093-2c3d-4419-97a3-747cb79a187e",
   "metadata": {},
   "source": [
    "---"
   ]
  },
  {
   "cell_type": "markdown",
   "id": "ee76af49-e26c-4c3a-8ee8-4516804bcdc4",
   "metadata": {},
   "source": [
    "## 2. Array Types\n",
    "### 1D Arrays\n",
    "One-dimensional arrays are simple arrays where data is stored in a single row."
   ]
  },
  {
   "cell_type": "code",
   "execution_count": 9,
   "id": "4ecaf843-2f74-4106-900b-78e9008a659f",
   "metadata": {},
   "outputs": [
    {
     "data": {
      "text/plain": [
       "array([1, 2, 3, 4, 5])"
      ]
     },
     "execution_count": 9,
     "metadata": {},
     "output_type": "execute_result"
    }
   ],
   "source": [
    "np.array([1, 2, 3, 4, 5])"
   ]
  },
  {
   "cell_type": "markdown",
   "id": "77794a11-efd3-49ef-b058-a555b2b0470f",
   "metadata": {},
   "source": [
    "### 2D Arrays\n",
    "Two-dimensional arrays store data in a matrix (rows and columns)."
   ]
  },
  {
   "cell_type": "code",
   "execution_count": 10,
   "id": "8eef84f7-045a-440f-bc03-4e68f53aae93",
   "metadata": {},
   "outputs": [
    {
     "data": {
      "text/plain": [
       "array([[1, 2],\n",
       "       [3, 4],\n",
       "       [5, 6]])"
      ]
     },
     "execution_count": 10,
     "metadata": {},
     "output_type": "execute_result"
    }
   ],
   "source": [
    "np.array([[1, 2], [3, 4], [5, 6]])"
   ]
  },
  {
   "cell_type": "markdown",
   "id": "42978316-d6b7-48a7-a9a5-24d512a1fc67",
   "metadata": {},
   "source": [
    "### N-Dimensional Arrays\n",
    "NumPy can handle arrays of arbitrary dimensions. For example, a 3D array (a cube of data) is created as follows:"
   ]
  },
  {
   "cell_type": "code",
   "execution_count": 11,
   "id": "d6146dac-7ad8-4806-a3af-258b92af2d51",
   "metadata": {},
   "outputs": [
    {
     "data": {
      "text/plain": [
       "array([[[1, 2],\n",
       "        [3, 4]],\n",
       "\n",
       "       [[5, 6],\n",
       "        [7, 8]]])"
      ]
     },
     "execution_count": 11,
     "metadata": {},
     "output_type": "execute_result"
    }
   ],
   "source": [
    "np.array([[[1, 2], [3, 4]], [[5, 6], [7, 8]]])"
   ]
  },
  {
   "cell_type": "markdown",
   "id": "7c823c00-ec0b-4a25-8005-60d667a2cd21",
   "metadata": {},
   "source": [
    "---"
   ]
  },
  {
   "cell_type": "markdown",
   "id": "363ae3a7-adea-46bb-b736-73e0b9eef49b",
   "metadata": {},
   "source": [
    "## 3. Array Data Types (dtype)\n",
    "NumPy arrays can contain elements of a specific data type. You can either let NumPy infer the data type or specify it explicitly.\n",
    "\n",
    "### Checking the Data Type\n",
    "You can check the data type of a NumPy array using the .dtype attribute."
   ]
  },
  {
   "cell_type": "code",
   "execution_count": 12,
   "id": "42dfd030-fef0-4012-b281-d539d8294b1d",
   "metadata": {},
   "outputs": [
    {
     "data": {
      "text/plain": [
       "array([1, 2, 3])"
      ]
     },
     "execution_count": 12,
     "metadata": {},
     "output_type": "execute_result"
    }
   ],
   "source": [
    "np.array([1, 2, 3])"
   ]
  },
  {
   "cell_type": "markdown",
   "id": "35ca42d8-da47-4052-9e2c-7bc0e7e71cbc",
   "metadata": {},
   "source": [
    "### Specifying the Data Type\n",
    "You can specify the data type when creating a NumPy array by passing the dtype argument."
   ]
  },
  {
   "cell_type": "code",
   "execution_count": 13,
   "id": "e838638c-3464-4a5f-a00c-65f402bc7d06",
   "metadata": {},
   "outputs": [
    {
     "data": {
      "text/plain": [
       "array([1., 2., 3.])"
      ]
     },
     "execution_count": 13,
     "metadata": {},
     "output_type": "execute_result"
    }
   ],
   "source": [
    "np.array([1, 2, 3], dtype='float64')"
   ]
  },
  {
   "cell_type": "markdown",
   "id": "b1f0c562-57e8-4433-86d3-148a646f20e3",
   "metadata": {},
   "source": [
    "Common Data Types in NumPy:\n",
    "\n",
    "- `int32`, `int64`: Integer types of different sizes.\n",
    "- `float32`, `float64`: Floating-point numbers.\n",
    "- `bool`: Boolean values (True or False)."
   ]
  },
  {
   "cell_type": "markdown",
   "id": "e8c60348-4749-458f-af18-1ae5d607c925",
   "metadata": {},
   "source": [
    "# Array Indexing and Slicing\n",
    "\n",
    "NumPy allows for efficient and flexible access to elements of arrays using indexing and slicing. These tools are essential for selecting, manipulating, and analyzing data within arrays.\n",
    "\n",
    "---\n",
    "\n",
    "## 1. Accessing Elements: Indexing\n",
    "\n",
    "### 1D Array Indexing\n",
    "You can access individual elements in a 1D array by specifying the index (starting from 0)."
   ]
  },
  {
   "cell_type": "code",
   "execution_count": 19,
   "id": "6bb3fd2f-f2ba-43cf-ad98-5a6815f3d37b",
   "metadata": {},
   "outputs": [
    {
     "name": "stdout",
     "output_type": "stream",
     "text": [
      "30\n"
     ]
    }
   ],
   "source": [
    "arr_1d = np.array([10, 20, 30, 40])\n",
    "print(arr_1d[2])"
   ]
  },
  {
   "cell_type": "markdown",
   "id": "d37b8757-746c-4f5f-ad4e-939fd456554d",
   "metadata": {},
   "source": [
    "### 2D Array Indexing\n",
    "In a 2D array (matrix), you can access elements by specifying the row and column index."
   ]
  },
  {
   "cell_type": "code",
   "execution_count": 20,
   "id": "79c7b676-c8af-4372-a485-c9c8f48cb094",
   "metadata": {},
   "outputs": [
    {
     "name": "stdout",
     "output_type": "stream",
     "text": [
      "60\n"
     ]
    }
   ],
   "source": [
    "arr_2d = np.array([[10, 20, 30], [40, 50, 60], [70, 80, 90]])\n",
    "print(arr_2d[1, 2])  # Outputs: 60 (row 1, column 2)"
   ]
  },
  {
   "cell_type": "markdown",
   "id": "5fba6cf8-17f7-4f78-8074-f8c0421fd05e",
   "metadata": {},
   "source": [
    "### N-Dimensional Array Indexing\n",
    "For arrays with more than two dimensions, you can use the same principle of specifying the index for each dimension."
   ]
  },
  {
   "cell_type": "code",
   "execution_count": 21,
   "id": "9c4252e3-d2ba-4de5-9872-0f2c52a2be9f",
   "metadata": {},
   "outputs": [
    {
     "name": "stdout",
     "output_type": "stream",
     "text": [
      "6\n"
     ]
    }
   ],
   "source": [
    "arr_3d = np.array([[[1, 2], [3, 4]], [[5, 6], [7, 8]]])\n",
    "print(arr_3d[1, 0, 1])  # Outputs: 6 (2nd group, 1st row, 2nd column)\n"
   ]
  },
  {
   "cell_type": "markdown",
   "id": "721d01c7-3e33-4cae-8156-d84d8c657e43",
   "metadata": {},
   "source": [
    "---\n"
   ]
  },
  {
   "cell_type": "markdown",
   "id": "14a794d6-c033-4303-b6b0-522fc0c3fabd",
   "metadata": {},
   "source": [
    "## 2. Slicing: Extracting Subsets of Arrays\n",
    "Slicing allows you to extract parts of an array by specifying a range of indices. The syntax is [start:end:step], where start is inclusive, and end is exclusive.\n",
    "\n",
    "### 1D Array Slicing"
   ]
  }
 ],
 "metadata": {
  "kernelspec": {
   "display_name": "Python 3 (ipykernel)",
   "language": "python",
   "name": "python3"
  },
  "language_info": {
   "codemirror_mode": {
    "name": "ipython",
    "version": 3
   },
   "file_extension": ".py",
   "mimetype": "text/x-python",
   "name": "python",
   "nbconvert_exporter": "python",
   "pygments_lexer": "ipython3",
   "version": "3.12.5"
  }
 },
 "nbformat": 4,
 "nbformat_minor": 5
}
